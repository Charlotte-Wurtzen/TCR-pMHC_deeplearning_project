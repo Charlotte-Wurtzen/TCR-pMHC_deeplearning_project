{
  "nbformat": 4,
  "nbformat_minor": 0,
  "metadata": {
    "colab": {
      "name": "Model_with_onehot.ipynb",
      "provenance": []
    },
    "kernelspec": {
      "name": "python3",
      "display_name": "Python 3"
    },
    "language_info": {
      "name": "python"
    },
    "accelerator": "GPU"
  },
  "cells": [
    {
      "cell_type": "markdown",
      "source": [
        "# Predicting MHC-pTCR interactions"
      ],
      "metadata": {
        "id": "Q-ckbKwZc4Bv"
      }
    },
    {
      "cell_type": "code",
      "source": [
        "import numpy as np\n",
        "from sklearn import metrics\n",
        "from sklearn.metrics import f1_score, accuracy_score\n",
        "from sklearn.metrics import roc_curve, confusion_matrix\n",
        "import torch\n",
        "import torch.nn as nn  # All neural network modules, nn.Linear, nn.Conv2d, BatchNorm, Loss functions\n",
        "import torch.optim as optim  # For all Optimization algorithms, SGD, Adam, etc.\n",
        "import torch.nn.functional as F  # All functions that don't have any parameters\n",
        "from sklearn.metrics import accuracy_score, matthews_corrcoef, roc_curve\n",
        "from torch.autograd import Variable\n",
        "from torch.nn.functional import relu, sigmoid\n",
        "from sklearn.model_selection import KFold\n",
        "import matplotlib.pyplot as plt\n",
        "from sklearn.metrics import accuracy_score"
      ],
      "metadata": {
        "id": "_UYKbeMVeoSs"
      },
      "execution_count": 1,
      "outputs": []
    },
    {
      "cell_type": "markdown",
      "source": [
        "### Run code on gpu"
      ],
      "metadata": {
        "id": "F9FwMYzNENz6"
      }
    },
    {
      "cell_type": "code",
      "source": [
        "# define device\n",
        "\n",
        "device = torch.device(\"cuda\" if torch.cuda.is_available() else \"cpu\")\n",
        "print(\"Using device (CPU/GPU):\", device)\n"
      ],
      "metadata": {
        "colab": {
          "base_uri": "https://localhost:8080/"
        },
        "id": "5CrFpNY8EPTg",
        "outputId": "a10a1871-d1ee-424b-fcd3-8d8f7fbeb8ed"
      },
      "execution_count": 3,
      "outputs": [
        {
          "output_type": "stream",
          "name": "stdout",
          "text": [
            "Using device (CPU/GPU): cuda\n"
          ]
        }
      ]
    },
    {
      "cell_type": "markdown",
      "source": [
        "### Load data \n",
        "\n",
        "Get data from github repository: https://github.com/JulieMariaJ/TCR-pMHC.git."
      ],
      "metadata": {
        "id": "BiCvDlv7ltl4"
      }
    },
    {
      "cell_type": "code",
      "source": [
        "!wget https://raw.githubusercontent.com/JulieMariaJ/TCR-pMHC/main/data/P1_labels.npz\n",
        "!wget https://raw.githubusercontent.com/JulieMariaJ/TCR-pMHC/main/data/P2_labels.npz\n",
        "!wget https://raw.githubusercontent.com/JulieMariaJ/TCR-pMHC/main/data/P3_labels.npz\n",
        "!wget https://raw.githubusercontent.com/JulieMariaJ/TCR-pMHC/main/data/P4_labels.npz"
      ],
      "metadata": {
        "colab": {
          "base_uri": "https://localhost:8080/"
        },
        "id": "eoEXxeJAeU8l",
        "outputId": "498b08b9-da6d-4eaf-ae9d-aebd5b43064a"
      },
      "execution_count": 4,
      "outputs": [
        {
          "output_type": "stream",
          "name": "stdout",
          "text": [
            "--2021-12-27 13:32:56--  https://raw.githubusercontent.com/JulieMariaJ/TCR-pMHC/main/data/P1_labels.npz\n",
            "Resolving raw.githubusercontent.com (raw.githubusercontent.com)... 185.199.109.133, 185.199.110.133, 185.199.111.133, ...\n",
            "Connecting to raw.githubusercontent.com (raw.githubusercontent.com)|185.199.109.133|:443... connected.\n",
            "HTTP request sent, awaiting response... 200 OK\n",
            "Length: 12472 (12K) [application/octet-stream]\n",
            "Saving to: ‘P1_labels.npz’\n",
            "\n",
            "P1_labels.npz       100%[===================>]  12.18K  --.-KB/s    in 0s      \n",
            "\n",
            "2021-12-27 13:32:56 (43.7 MB/s) - ‘P1_labels.npz’ saved [12472/12472]\n",
            "\n",
            "--2021-12-27 13:32:56--  https://raw.githubusercontent.com/JulieMariaJ/TCR-pMHC/main/data/P2_labels.npz\n",
            "Resolving raw.githubusercontent.com (raw.githubusercontent.com)... 185.199.108.133, 185.199.109.133, 185.199.110.133, ...\n",
            "Connecting to raw.githubusercontent.com (raw.githubusercontent.com)|185.199.108.133|:443... connected.\n",
            "HTTP request sent, awaiting response... 200 OK\n",
            "Length: 9608 (9.4K) [application/octet-stream]\n",
            "Saving to: ‘P2_labels.npz’\n",
            "\n",
            "P2_labels.npz       100%[===================>]   9.38K  --.-KB/s    in 0s      \n",
            "\n",
            "2021-12-27 13:32:56 (56.5 MB/s) - ‘P2_labels.npz’ saved [9608/9608]\n",
            "\n",
            "--2021-12-27 13:32:57--  https://raw.githubusercontent.com/JulieMariaJ/TCR-pMHC/main/data/P3_labels.npz\n",
            "Resolving raw.githubusercontent.com (raw.githubusercontent.com)... 185.199.108.133, 185.199.109.133, 185.199.110.133, ...\n",
            "Connecting to raw.githubusercontent.com (raw.githubusercontent.com)|185.199.108.133|:443... connected.\n",
            "HTTP request sent, awaiting response... 200 OK\n",
            "Length: 12104 (12K) [application/octet-stream]\n",
            "Saving to: ‘P3_labels.npz’\n",
            "\n",
            "P3_labels.npz       100%[===================>]  11.82K  --.-KB/s    in 0s      \n",
            "\n",
            "2021-12-27 13:32:57 (63.5 MB/s) - ‘P3_labels.npz’ saved [12104/12104]\n",
            "\n",
            "--2021-12-27 13:32:57--  https://raw.githubusercontent.com/JulieMariaJ/TCR-pMHC/main/data/P4_labels.npz\n",
            "Resolving raw.githubusercontent.com (raw.githubusercontent.com)... 185.199.108.133, 185.199.109.133, 185.199.110.133, ...\n",
            "Connecting to raw.githubusercontent.com (raw.githubusercontent.com)|185.199.108.133|:443... connected.\n",
            "HTTP request sent, awaiting response... 200 OK\n",
            "Length: 12520 (12K) [application/octet-stream]\n",
            "Saving to: ‘P4_labels.npz’\n",
            "\n",
            "P4_labels.npz       100%[===================>]  12.23K  --.-KB/s    in 0s      \n",
            "\n",
            "2021-12-27 13:32:57 (48.1 MB/s) - ‘P4_labels.npz’ saved [12520/12520]\n",
            "\n"
          ]
        }
      ]
    },
    {
      "cell_type": "code",
      "source": [
        "!wget https://raw.githubusercontent.com/JulieMariaJ/TCR-pMHC/main/data/P1_input.npz.zip\n",
        "!wget https://raw.githubusercontent.com/JulieMariaJ/TCR-pMHC/main/data/P2_input.npz.zip\n",
        "!wget https://raw.githubusercontent.com/JulieMariaJ/TCR-pMHC/main/data/P3_input.npz.zip\n",
        "!wget https://raw.githubusercontent.com/JulieMariaJ/TCR-pMHC/main/data/P4_input.npz.zip"
      ],
      "metadata": {
        "colab": {
          "base_uri": "https://localhost:8080/"
        },
        "id": "6YZGT9eMtbpk",
        "outputId": "5447d00c-ac73-4c22-94f9-edc05700b40d"
      },
      "execution_count": 5,
      "outputs": [
        {
          "output_type": "stream",
          "name": "stdout",
          "text": [
            "--2021-12-27 13:32:57--  https://raw.githubusercontent.com/JulieMariaJ/TCR-pMHC/main/data/P1_input.npz.zip\n",
            "Resolving raw.githubusercontent.com (raw.githubusercontent.com)... 185.199.108.133, 185.199.109.133, 185.199.110.133, ...\n",
            "Connecting to raw.githubusercontent.com (raw.githubusercontent.com)|185.199.108.133|:443... connected.\n",
            "HTTP request sent, awaiting response... 200 OK\n",
            "Length: 19604119 (19M) [application/zip]\n",
            "Saving to: ‘P1_input.npz.zip’\n",
            "\n",
            "P1_input.npz.zip    100%[===================>]  18.70M  --.-KB/s    in 0.1s    \n",
            "\n",
            "2021-12-27 13:32:58 (126 MB/s) - ‘P1_input.npz.zip’ saved [19604119/19604119]\n",
            "\n",
            "--2021-12-27 13:32:58--  https://raw.githubusercontent.com/JulieMariaJ/TCR-pMHC/main/data/P2_input.npz.zip\n",
            "Resolving raw.githubusercontent.com (raw.githubusercontent.com)... 185.199.111.133, 185.199.110.133, 185.199.109.133, ...\n",
            "Connecting to raw.githubusercontent.com (raw.githubusercontent.com)|185.199.111.133|:443... connected.\n",
            "HTTP request sent, awaiting response... 200 OK\n",
            "Length: 15020768 (14M) [application/zip]\n",
            "Saving to: ‘P2_input.npz.zip’\n",
            "\n",
            "P2_input.npz.zip    100%[===================>]  14.32M  72.6MB/s    in 0.2s    \n",
            "\n",
            "2021-12-27 13:32:58 (72.6 MB/s) - ‘P2_input.npz.zip’ saved [15020768/15020768]\n",
            "\n",
            "--2021-12-27 13:32:58--  https://raw.githubusercontent.com/JulieMariaJ/TCR-pMHC/main/data/P3_input.npz.zip\n",
            "Resolving raw.githubusercontent.com (raw.githubusercontent.com)... 185.199.108.133, 185.199.109.133, 185.199.110.133, ...\n",
            "Connecting to raw.githubusercontent.com (raw.githubusercontent.com)|185.199.108.133|:443... connected.\n",
            "HTTP request sent, awaiting response... 200 OK\n",
            "Length: 19034144 (18M) [application/zip]\n",
            "Saving to: ‘P3_input.npz.zip’\n",
            "\n",
            "P3_input.npz.zip    100%[===================>]  18.15M  --.-KB/s    in 0.1s    \n",
            "\n",
            "2021-12-27 13:32:59 (146 MB/s) - ‘P3_input.npz.zip’ saved [19034144/19034144]\n",
            "\n",
            "--2021-12-27 13:32:59--  https://raw.githubusercontent.com/JulieMariaJ/TCR-pMHC/main/data/P4_input.npz.zip\n",
            "Resolving raw.githubusercontent.com (raw.githubusercontent.com)... 185.199.108.133, 185.199.111.133, 185.199.109.133, ...\n",
            "Connecting to raw.githubusercontent.com (raw.githubusercontent.com)|185.199.108.133|:443... connected.\n",
            "HTTP request sent, awaiting response... 200 OK\n",
            "Length: 19686371 (19M) [application/zip]\n",
            "Saving to: ‘P4_input.npz.zip’\n",
            "\n",
            "P4_input.npz.zip    100%[===================>]  18.77M  --.-KB/s    in 0.1s    \n",
            "\n",
            "2021-12-27 13:33:01 (151 MB/s) - ‘P4_input.npz.zip’ saved [19686371/19686371]\n",
            "\n"
          ]
        }
      ]
    },
    {
      "cell_type": "markdown",
      "source": [
        "\n",
        "\n",
        "As the original ESM-1b embedded files are too large to upload into the repository, we have demonstrated the model with the one-hot encoded sequences instead."
      ],
      "metadata": {
        "id": "jg7vagSIlyjh"
      }
    },
    {
      "cell_type": "code",
      "source": [
        "inputfiles = ['P1_input.npz.zip', 'P2_input.npz.zip', 'P3_input.npz.zip', 'P4_input.npz.zip']\n",
        "unzipped_inputfiles = ['P1_input.npz', 'P2_input.npz', 'P3_input.npz', 'P4_input.npz']"
      ],
      "metadata": {
        "id": "9GgvRW5P7iWj"
      },
      "execution_count": 6,
      "outputs": []
    },
    {
      "cell_type": "code",
      "source": [
        "# unzip input (X) files \n",
        "\n",
        "import zipfile\n",
        "from zipfile import ZipFile\n",
        "#load x-values\n",
        "for input in inputfiles:\n",
        "  with zipfile.ZipFile(input, 'r') as zip_ref:\n",
        "      zip_ref.extractall()"
      ],
      "metadata": {
        "id": "ez0pmipA5Ge0"
      },
      "execution_count": 7,
      "outputs": []
    },
    {
      "cell_type": "code",
      "source": [
        "#load unzipped files \n",
        "\n",
        "X = []\n",
        "for file in unzipped_inputfiles:\n",
        "  x = np.load(file)\n",
        "  X.append(list(x.values())[0])\n",
        "\n",
        "\n",
        "X = [item for sublist in X for item in sublist]\n",
        "X = np.asarray(X)"
      ],
      "metadata": {
        "id": "os_MUq337LBb"
      },
      "execution_count": 8,
      "outputs": []
    },
    {
      "cell_type": "code",
      "source": [
        "# load y-values \n",
        "y1 = np.load(\"P1_labels.npz\")\n",
        "y2 = np.load(\"P2_labels.npz\")\n",
        "y3 = np.load(\"P3_labels.npz\")\n",
        "y4 = np.load(\"P4_labels.npz\")\n",
        "\n",
        "y1 = list(y1.values())[0]\n",
        "y2 = list(y2.values())[0]\n",
        "y3 = list(y3.values())[0]\n",
        "y4 = list(y4.values())[0]\n",
        "\n",
        "y = np.concatenate([y1, y2, y3, y4])"
      ],
      "metadata": {
        "id": "LrJ3BGFvfUZ1"
      },
      "execution_count": 9,
      "outputs": []
    },
    {
      "cell_type": "code",
      "source": [
        "#remove MHC from data \n",
        "\n",
        "X_pTCR = []\n",
        "for sample in X:\n",
        "  seq = []\n",
        "  count = 1\n",
        "  for i in range(len(sample)):\n",
        "    if count >= 179:\n",
        "      seq.append(sample[i])\n",
        "    count += 1\n",
        "  X_pTCR.append(seq)\n"
      ],
      "metadata": {
        "id": "v1U_7K_2Ib43"
      },
      "execution_count": null,
      "outputs": []
    },
    {
      "cell_type": "code",
      "source": [
        "# define partitions for cross-validation \n",
        "\n",
        "dataset = []\n",
        "for i in range(len(y)):\n",
        "  dataset.append([np.transpose(X_pTCR[i]), y[i]])\n",
        "\n",
        "dataset_split = []\n",
        "dataset_split.append(dataset[:1526])\n",
        "dataset_split.append(dataset[1526:1526+1168])\n",
        "dataset_split.append(dataset[1526+1168:1526+1168+1480])\n",
        "dataset_split.append(dataset[1526+1168+1480:])"
      ],
      "metadata": {
        "id": "cqGLzHO9DrkC"
      },
      "execution_count": 51,
      "outputs": []
    },
    {
      "cell_type": "markdown",
      "source": [
        "### Define network"
      ],
      "metadata": {
        "id": "1yRXaoewQT6P"
      }
    },
    {
      "cell_type": "code",
      "source": [
        "\n",
        "# hyper parameters\n",
        "x_train = torch.empty((1,54,242), dtype=torch.int32, device = 'cuda')\n",
        "\n",
        "channels = x_train.shape[1]\n",
        "dim_size = x_train.shape[2]\n",
        "num_classes = 1\n",
        "\n",
        "num_filters1 = 200\n",
        "kernel_size_conv1 = 2\n",
        "stride_conv1 = 2\n",
        "padding_conv1 = 1\n",
        "\n",
        "num_filters2 = 200\n",
        "kernel_size_conv2 = 2\n",
        "stride_conv2 = 2\n",
        "padding_conv2 = 1\n",
        "\n",
        "num_filters3 = 100\n",
        "kernel_size_conv3 = 3\n",
        "stride_conv3 = 2\n",
        "padding_conv3 = 1\n",
        "\n",
        "num_l1 = 200\n",
        "num_l2 = 300\n",
        "hidden_size = 50\n",
        "num_l3 = 100\n",
        "\n",
        "def compute_conv_dim(dim_size, kernel_size, padding_size, stride_size):\n",
        "    return int((dim_size - kernel_size + 2 * padding_size) / stride_size + 1)\n",
        "\n",
        "\n",
        "class Net(nn.Module):\n",
        "    def __init__(self,  num_classes):\n",
        "        super(Net, self).__init__()\n",
        "        self.bn0 = nn.BatchNorm1d(channels)\n",
        "        self.conv1 = nn.Conv1d(in_channels=channels, out_channels=num_filters1, kernel_size=kernel_size_conv1, stride=stride_conv1, padding=padding_conv1)\n",
        "        torch.nn.init.kaiming_uniform_(self.conv1.weight)\n",
        "        self.conv_bn1 = nn.BatchNorm1d(num_filters1)\n",
        "        self.conv_out_dim1 = compute_conv_dim(dim_size, kernel_size_conv1, padding_conv1, stride_conv1)\n",
        "\n",
        "        self.conv2 = nn.Conv1d(in_channels=num_filters1, out_channels=num_filters2, kernel_size=kernel_size_conv2, stride=stride_conv2, padding=padding_conv2)\n",
        "        torch.nn.init.kaiming_uniform_(self.conv2.weight)\n",
        "        self.conv_bn2 = nn.BatchNorm1d(num_filters2)\n",
        "        self.conv_out_dim2 = compute_conv_dim(self.conv_out_dim1, kernel_size_conv2, padding_conv2, stride_conv2)\n",
        "\n",
        "        self.rnn = nn.LSTM(input_size=num_filters1, hidden_size=hidden_size, num_layers=2, batch_first=True, bidirectional = True)\n",
        "\n",
        "        self.l1_GE = nn.Linear(in_features = 2*hidden_size, out_features = num_l2)\n",
        "        self.l1_bn4 = nn.BatchNorm1d(num_l2)\n",
        "        self.l2_GE = nn.Linear(in_features = num_l2, out_features = num_l3)\n",
        "        self.l2_bn4 = nn.BatchNorm1d(num_l3)\n",
        "\n",
        "        self.l_out = nn.Linear(num_l3, num_classes)\n",
        "        torch.nn.init.xavier_uniform_(self.l_out.weight)\n",
        "\n",
        "        #dropout\n",
        "        self.dropout_cnn_lstm = nn.Dropout(0.2)\n",
        "        self.dropout_linear = nn.Dropout(0.5)\n",
        "\n",
        "        # maxpool\n",
        "        self.pool = nn.MaxPool1d(kernel_size=2, stride=2)\n",
        "\n",
        "    def forward(self, x):\n",
        "        \n",
        "        out = {}\n",
        "       \n",
        "        # conv 1\n",
        "        x = self.bn0(x)\n",
        "        x = self.pool(F.relu(self.conv1(x)))\n",
        "        x = self.conv_bn1(x)\n",
        "        x = self.dropout_cnn_lstm(x)\n",
        "\n",
        "         # conv 2\n",
        "        x = self.pool(F.relu(self.conv2(x)))\n",
        "        x = self.conv_bn2(x)\n",
        "        x = self.dropout_cnn_lstm(x)\n",
        "        \n",
        "        # bi-LSTM\n",
        "        x = x.transpose_(2, 1)\n",
        "        x, (h, c) = self.rnn(x)\n",
        "        cat = torch.cat((h[-2, :, :], h[-1, :, :]), dim=1)\n",
        "        cat = self.dropout_cnn_lstm(cat)\n",
        "\n",
        "        # linear (global E)\n",
        "        x = relu(self.l1_GE(cat))\n",
        "        x = self.l1_bn4(x)\n",
        "        x = self.dropout_linear(x)\n",
        "        x = relu(self.l2_GE(x))\n",
        "        x = self.l2_bn4(x)\n",
        "        x = self.dropout_linear(x)\n",
        "\n",
        "        # linear out\n",
        "        l_out = self.l_out(x)\n",
        "        out['out'] = torch.sigmoid(l_out)\n",
        "\n",
        "        return out\n",
        "\n",
        "net = Net(num_classes).to(device)\n",
        "print(net)"
      ],
      "metadata": {
        "colab": {
          "base_uri": "https://localhost:8080/"
        },
        "id": "RoE7hKAbFkjJ",
        "outputId": "470d6937-7673-406d-9998-cd1d6a997a66"
      },
      "execution_count": 52,
      "outputs": [
        {
          "output_type": "stream",
          "name": "stdout",
          "text": [
            "Net(\n",
            "  (bn0): BatchNorm1d(54, eps=1e-05, momentum=0.1, affine=True, track_running_stats=True)\n",
            "  (conv1): Conv1d(54, 200, kernel_size=(2,), stride=(2,), padding=(1,))\n",
            "  (conv_bn1): BatchNorm1d(200, eps=1e-05, momentum=0.1, affine=True, track_running_stats=True)\n",
            "  (conv2): Conv1d(200, 200, kernel_size=(2,), stride=(2,), padding=(1,))\n",
            "  (conv_bn2): BatchNorm1d(200, eps=1e-05, momentum=0.1, affine=True, track_running_stats=True)\n",
            "  (rnn): LSTM(200, 50, num_layers=2, batch_first=True, bidirectional=True)\n",
            "  (l1_GE): Linear(in_features=100, out_features=300, bias=True)\n",
            "  (l1_bn4): BatchNorm1d(300, eps=1e-05, momentum=0.1, affine=True, track_running_stats=True)\n",
            "  (l2_GE): Linear(in_features=300, out_features=100, bias=True)\n",
            "  (l2_bn4): BatchNorm1d(100, eps=1e-05, momentum=0.1, affine=True, track_running_stats=True)\n",
            "  (l_out): Linear(in_features=100, out_features=1, bias=True)\n",
            "  (dropout_cnn_lstm): Dropout(p=0.2, inplace=False)\n",
            "  (dropout_linear): Dropout(p=0.5, inplace=False)\n",
            "  (pool): MaxPool1d(kernel_size=2, stride=2, padding=0, dilation=1, ceil_mode=False)\n",
            ")\n"
          ]
        }
      ]
    },
    {
      "cell_type": "code",
      "source": [
        "#loss function and optimizer \n",
        "\n",
        "criterion = nn.BCELoss()  \n",
        "optimizer = optim.Adam(net.parameters(), lr=0.001, weight_decay=1e-8)\n"
      ],
      "metadata": {
        "id": "sy3qBdB2F6V4"
      },
      "execution_count": 53,
      "outputs": []
    },
    {
      "cell_type": "code",
      "source": [
        "# reseting weights function \n",
        "def reset_weights(m):\n",
        "  \"\"\" reset weights \"\"\"\n",
        "  for layer in m.children():\n",
        "   if hasattr(layer, 'reset_parameters'):\n",
        "    #print(f'Reset trainable parameters of layer = {layer}')\n",
        "    layer.reset_parameters()\n"
      ],
      "metadata": {
        "id": "VodKN1cXGUZL"
      },
      "execution_count": 54,
      "outputs": []
    },
    {
      "cell_type": "markdown",
      "source": [
        "### Train network "
      ],
      "metadata": {
        "id": "rxvCKAbCQPHq"
      }
    },
    {
      "cell_type": "code",
      "source": [
        "\n",
        "num_epoch = 100\n",
        "\n",
        "# For fold results\n",
        "train_results = {}\n",
        "val_results = {}\n",
        "best_nets, best_val_targets_list, best_val_preds_list, best_train_targets_list, best_train_preds_list = [], [], [], [], []\n",
        "best_train_preds_sig_list, best_val_preds_sig_list = [], []\n",
        "master_train_losses, master_val_losses = [], []\n",
        "master_train_aucs, master_val_aucs = [], []\n",
        "\n",
        "for fold, sample in enumerate(dataset_split):  \n",
        "    # Print\n",
        "    print(f'FOLD {fold}')\n",
        "    print('--------------------------------')\n",
        "\n",
        "    train_set = dataset_split[:fold]+dataset_split[fold+1:]\n",
        "    train_set_flat = [item for sublist in train_set for item in sublist]\n",
        "\n",
        "    # Define data loaders for training and testing data in this fold\n",
        "    trainloader_fold = torch.utils.data.DataLoader(\n",
        "                        train_set_flat, \n",
        "                        batch_size=64,\n",
        "                        shuffle=True)\n",
        "    \n",
        "    x_train, y_train = next(iter(trainloader_fold))\n",
        "    \n",
        "    channels = x_train.shape[1]\n",
        "    dim_size = x_train.shape[2]\n",
        "\n",
        "    valloader_fold = torch.utils.data.DataLoader(\n",
        "                        dataset_split[fold],\n",
        "                        batch_size=64,\n",
        "                        shuffle=True)\n",
        "    \n",
        "    net.apply(reset_weights)\n",
        "    \n",
        "    no_epoch_improve = 0\n",
        "    #min_val_loss = np.Inf\n",
        "    max_val_auc = 0\n",
        "\n",
        "    train_loss = []\n",
        "    losses = []\n",
        "    val_losses = []\n",
        "    train_acc = []\n",
        "    valid_acc = []\n",
        "    minimum_val_loss = 1000\n",
        "\n",
        "    train_aucs = []\n",
        "    val_aucs = []\n",
        "\n",
        "    for epoch in range(num_epoch):  \n",
        "        print('epoch number:', epoch)\n",
        "        running_loss = 0.0\n",
        "        val_loss = 0.0\n",
        "\n",
        "        # train network\n",
        "        net.train()\n",
        "        train_targets, train_preds, train_preds_sig = [], [], []\n",
        "        for i, (data, target) in enumerate(trainloader_fold):\n",
        "            # get the inputs\n",
        "            data_train = data.float().detach().requires_grad_(True).cuda()\n",
        "            labels_train = torch.tensor(np.array(target), dtype=torch.float).unsqueeze(1).cuda()\n",
        "\n",
        "            optimizer.zero_grad()\n",
        "\n",
        "            output = net(data_train)\n",
        "\n",
        "            train_batch_loss = criterion(output['out'], labels_train)\n",
        "            train_batch_loss.backward()\n",
        "            optimizer.step()\n",
        "            \n",
        "            preds = np.round(output['out'].detach().cpu())\n",
        "            preds_sig = output['out'].detach().cpu()\n",
        "            train_targets += list(np.array(labels_train.cpu()))\n",
        "            train_preds += list(preds.numpy().flatten())\n",
        "            train_preds_sig += list(preds_sig.numpy().flatten())\n",
        "            running_loss += train_batch_loss.item()\n",
        "\n",
        "\n",
        "        losses.append(running_loss / len(trainloader_fold.dataset))\n",
        "\n",
        "        # evaluate\n",
        "        net.eval()\n",
        "        val_targets, val_preds, val_preds_sig = [], [], []\n",
        "        with torch.no_grad():\n",
        "            for i, (data, target) in enumerate(valloader_fold):\n",
        "                # get the inputs\n",
        "                data_val = data.float().detach().requires_grad_(True).cuda()\n",
        "                labels_val = torch.tensor(np.array(target), dtype=torch.float).unsqueeze(1).cuda()\n",
        "                \n",
        "                output = net(data_val)\n",
        "                \n",
        "                val_batch_loss = criterion(output['out'], labels_val)\n",
        "\n",
        "                val_predicts_sig = output['out'].detach().cpu()\n",
        "                val_predicts = np.round(output['out'].detach().cpu())\n",
        "                val_targets += list(np.array(labels_val.cpu()))\n",
        "                val_preds += list(val_predicts.numpy().flatten())\n",
        "                val_preds_sig += list(val_predicts_sig.numpy().flatten())\n",
        "                val_loss += val_batch_loss.item()\n",
        "        \n",
        "        val_losses.append(val_loss / len(valloader_fold.dataset))\n",
        "        print(\"validation loss:\",val_loss/len(valloader_fold.dataset))\n",
        " \n",
        "        train_acc_cur = accuracy_score(train_targets, train_preds)\n",
        "        valid_acc_cur = accuracy_score(val_targets, val_preds)\n",
        "        \n",
        "        train_acc.append(train_acc_cur)\n",
        "        valid_acc.append(valid_acc_cur)\n",
        "\n",
        "        # AUC\n",
        "        fpr_train, tpr_train, threshold_train = metrics.roc_curve(train_targets, train_preds)\n",
        "        roc_auc_train = metrics.auc(fpr_train, tpr_train)\n",
        "        fpr_val, tpr_val, threshold_val = metrics.roc_curve(val_targets, val_preds)\n",
        "        roc_auc_val = metrics.auc(fpr_val, tpr_val)\n",
        "        train_aucs.append(roc_auc_train)\n",
        "        val_aucs.append(roc_auc_val)\n",
        "\n",
        "        # Early stopping\n",
        "        if (roc_auc_val / len(valloader_fold.dataset)) > max_val_auc:   #(val_loss / len(valloader_fold.dataset)) < min_val_loss:\n",
        "            print(\"Model found at epoch:\", epoch)  # save model/predictions with lowest loss \n",
        "            best_net = net\n",
        "            best_val_targets = val_targets\n",
        "            best_val_preds = val_preds\n",
        "            best_val_preds_sig = val_preds_sig\n",
        "            best_train_targets = train_targets\n",
        "            best_train_preds = train_preds\n",
        "            best_train_preds_sig = train_preds_sig\n",
        "            no_epoch_improve = 0\n",
        "            max_val_auc = (roc_auc_val / len(valloader_fold.dataset))     #min_val_loss = (val_loss / len(valloader_fold.dataset))\n",
        "        else:\n",
        "            no_epoch_improve +=1\n",
        "        if no_epoch_improve == 10:\n",
        "            print(\"Early stopping\\n\")\n",
        "            break\n",
        "\n",
        "\n",
        "    #save intermediate models \n",
        "    best_nets.append(best_net)\n",
        "    torch.save(best_net, 'best_net{0}.pth'.format(fold))\n",
        "    best_val_targets_list.append(best_val_targets)\n",
        "    best_val_preds_list.append(best_val_preds)\n",
        "    best_train_targets_list.append(best_train_targets)\n",
        "    best_train_preds_list.append(best_train_preds)\n",
        "    best_train_preds_sig_list.append(best_train_preds_sig)\n",
        "    best_val_preds_sig_list.append(best_val_preds_sig)\n",
        "\n",
        "    # save losses per fold\n",
        "    master_train_losses.append(losses)\n",
        "    master_val_losses.append(val_losses)\n",
        "    \n",
        "    # save all AUCs in fold\n",
        "    master_train_aucs.append(train_aucs)\n",
        "    master_val_aucs.append(val_aucs)\n",
        "\n",
        "    # best AUC per fold \n",
        "    fpr_train, tpr_train, threshold_train = metrics.roc_curve(best_train_targets, best_train_preds_sig)\n",
        "    roc_auc_train = metrics.auc(fpr_train, tpr_train)\n",
        "    train_results[fold + 1] = roc_auc_train\n",
        "    \n",
        "    fpr_val, tpr_val, threshold_val = metrics.roc_curve(best_val_targets, best_val_preds_sig)\n",
        "    roc_auc_val = metrics.auc(fpr_val, tpr_val)\n",
        "    val_results[fold + 1] = roc_auc_val\n",
        "  \n",
        "sum_train = 0.0\n",
        "sum_val = 0.0\n",
        "for key, value in train_results.items():\n",
        "  print(f'Fold {key}: {value} %')\n",
        "  sum_train += value\n",
        "print(f'Average: {sum_train/len(train_results.items())} %')\n",
        "for key, value in val_results.items():\n",
        "  print(f'Fold {key}: {value} %')\n",
        "  sum_val += value\n",
        "print(f'Average: {sum_val/len(val_results.items())} %')\n",
        "\n",
        "    "
      ],
      "metadata": {
        "colab": {
          "base_uri": "https://localhost:8080/"
        },
        "id": "khmJCsOAHWcV",
        "outputId": "6169f546-2d86-4e20-8984-60fcccff13ba"
      },
      "execution_count": 55,
      "outputs": [
        {
          "output_type": "stream",
          "name": "stdout",
          "text": [
            "FOLD 0\n",
            "--------------------------------\n",
            "epoch number: 0\n",
            "validation loss: 0.008963408351413233\n",
            "Model found at epoch: 0\n",
            "epoch number: 1\n",
            "validation loss: 0.006621921788974327\n",
            "Model found at epoch: 1\n",
            "epoch number: 2\n",
            "validation loss: 0.006020967810760163\n",
            "Model found at epoch: 2\n",
            "epoch number: 3\n",
            "validation loss: 0.005273556441732659\n",
            "Model found at epoch: 3\n",
            "epoch number: 4\n",
            "validation loss: 0.005264507823893471\n",
            "Model found at epoch: 4\n",
            "epoch number: 5\n",
            "validation loss: 0.00507474451436909\n",
            "Model found at epoch: 5\n",
            "epoch number: 6\n",
            "validation loss: 0.004982874705547743\n",
            "Model found at epoch: 6\n",
            "epoch number: 7\n",
            "validation loss: 0.005339955142058364\n",
            "Model found at epoch: 7\n",
            "epoch number: 8\n",
            "validation loss: 0.005334283048250416\n",
            "epoch number: 9\n",
            "validation loss: 0.005342849604736618\n",
            "Model found at epoch: 9\n",
            "epoch number: 10\n",
            "validation loss: 0.0057016719440254595\n",
            "epoch number: 11\n",
            "validation loss: 0.006112673931399929\n",
            "epoch number: 12\n",
            "validation loss: 0.006067596795830783\n",
            "epoch number: 13\n",
            "validation loss: 0.00643960507110562\n",
            "Model found at epoch: 13\n",
            "epoch number: 14\n",
            "validation loss: 0.00680706889745761\n",
            "epoch number: 15\n",
            "validation loss: 0.007014860497936508\n",
            "epoch number: 16\n",
            "validation loss: 0.007827572436663927\n",
            "epoch number: 17\n",
            "validation loss: 0.007276639020067992\n",
            "epoch number: 18\n",
            "validation loss: 0.0077950111535398554\n",
            "epoch number: 19\n",
            "validation loss: 0.008128851837677536\n",
            "epoch number: 20\n",
            "validation loss: 0.008135938374899319\n",
            "epoch number: 21\n",
            "validation loss: 0.00854196525416868\n",
            "epoch number: 22\n",
            "validation loss: 0.009172407204717358\n",
            "epoch number: 23\n",
            "validation loss: 0.00891090096566499\n",
            "Early stopping\n",
            "\n",
            "FOLD 1\n",
            "--------------------------------\n",
            "epoch number: 0\n",
            "validation loss: 0.007667696690314437\n",
            "Model found at epoch: 0\n",
            "epoch number: 1\n",
            "validation loss: 0.005965874313491664\n",
            "Model found at epoch: 1\n",
            "epoch number: 2\n",
            "validation loss: 0.00556237870597676\n",
            "Model found at epoch: 2\n",
            "epoch number: 3\n",
            "validation loss: 0.0052996156354473065\n",
            "Model found at epoch: 3\n",
            "epoch number: 4\n",
            "validation loss: 0.005569170267410474\n",
            "Model found at epoch: 4\n",
            "epoch number: 5\n",
            "validation loss: 0.005610118607339794\n",
            "epoch number: 6\n",
            "validation loss: 0.005710097986643445\n",
            "Model found at epoch: 6\n",
            "epoch number: 7\n",
            "validation loss: 0.005631017836754861\n",
            "Model found at epoch: 7\n",
            "epoch number: 8\n",
            "validation loss: 0.0063562502523195254\n",
            "epoch number: 9\n",
            "validation loss: 0.006104093593583532\n",
            "epoch number: 10\n",
            "validation loss: 0.006502804627055174\n",
            "epoch number: 11\n",
            "validation loss: 0.007032068267668763\n",
            "epoch number: 12\n",
            "validation loss: 0.007250731019941095\n",
            "epoch number: 13\n",
            "validation loss: 0.007495814768520937\n",
            "epoch number: 14\n",
            "validation loss: 0.007176357551082356\n",
            "epoch number: 15\n",
            "validation loss: 0.0077552124092431915\n",
            "epoch number: 16\n",
            "validation loss: 0.008028371208538748\n",
            "epoch number: 17\n",
            "validation loss: 0.007628902021081072\n",
            "Early stopping\n",
            "\n",
            "FOLD 2\n",
            "--------------------------------\n",
            "epoch number: 0\n",
            "validation loss: 0.007218147532359974\n",
            "Model found at epoch: 0\n",
            "epoch number: 1\n",
            "validation loss: 0.0057835608116678285\n",
            "Model found at epoch: 1\n",
            "epoch number: 2\n",
            "validation loss: 0.005856541181738313\n",
            "Model found at epoch: 2\n",
            "epoch number: 3\n",
            "validation loss: 0.00538031135660571\n",
            "Model found at epoch: 3\n",
            "epoch number: 4\n",
            "validation loss: 0.005050204502972396\n",
            "Model found at epoch: 4\n",
            "epoch number: 5\n",
            "validation loss: 0.0053638343472738525\n",
            "Model found at epoch: 5\n",
            "epoch number: 6\n",
            "validation loss: 0.005276472896740244\n",
            "epoch number: 7\n",
            "validation loss: 0.005225938649193661\n",
            "Model found at epoch: 7\n",
            "epoch number: 8\n",
            "validation loss: 0.005631810950266348\n",
            "epoch number: 9\n",
            "validation loss: 0.005057256799694654\n",
            "epoch number: 10\n",
            "validation loss: 0.0054938799324067865\n",
            "epoch number: 11\n",
            "validation loss: 0.0053202448362434235\n",
            "epoch number: 12\n",
            "validation loss: 0.005350915423116168\n",
            "epoch number: 13\n",
            "validation loss: 0.005352656482844739\n",
            "epoch number: 14\n",
            "validation loss: 0.005023184549566862\n",
            "Model found at epoch: 14\n",
            "epoch number: 15\n",
            "validation loss: 0.005155953936077453\n",
            "Model found at epoch: 15\n",
            "epoch number: 16\n",
            "validation loss: 0.005301283763067142\n",
            "Model found at epoch: 16\n",
            "epoch number: 17\n",
            "validation loss: 0.005176585655961487\n",
            "epoch number: 18\n",
            "validation loss: 0.005086470667172122\n",
            "epoch number: 19\n",
            "validation loss: 0.0048386459842928355\n",
            "epoch number: 20\n",
            "validation loss: 0.005159586607604414\n",
            "epoch number: 21\n",
            "validation loss: 0.005033428002954335\n",
            "epoch number: 22\n",
            "validation loss: 0.004877706294929659\n",
            "epoch number: 23\n",
            "validation loss: 0.005130565783159958\n",
            "epoch number: 24\n",
            "validation loss: 0.005598300926991411\n",
            "epoch number: 25\n",
            "validation loss: 0.004923119713124391\n",
            "Model found at epoch: 25\n",
            "epoch number: 26\n",
            "validation loss: 0.004868940112961305\n",
            "epoch number: 27\n",
            "validation loss: 0.005219511597140416\n",
            "Model found at epoch: 27\n",
            "epoch number: 28\n",
            "validation loss: 0.004991195708311893\n",
            "epoch number: 29\n",
            "validation loss: 0.0055180510858426225\n",
            "epoch number: 30\n",
            "validation loss: 0.005553698539733887\n",
            "epoch number: 31\n",
            "validation loss: 0.005438431221488359\n",
            "Model found at epoch: 31\n",
            "epoch number: 32\n",
            "validation loss: 0.005118056245752283\n",
            "epoch number: 33\n",
            "validation loss: 0.005625128876921293\n",
            "epoch number: 34\n",
            "validation loss: 0.006236696857455614\n",
            "epoch number: 35\n",
            "validation loss: 0.006538088438478676\n",
            "epoch number: 36\n",
            "validation loss: 0.005579804085396432\n",
            "epoch number: 37\n",
            "validation loss: 0.0055006404784885615\n",
            "epoch number: 38\n",
            "validation loss: 0.005198489260431882\n",
            "epoch number: 39\n",
            "validation loss: 0.005252333307588422\n",
            "epoch number: 40\n",
            "validation loss: 0.005092259647475707\n",
            "epoch number: 41\n",
            "validation loss: 0.00512935680815497\n",
            "Early stopping\n",
            "\n",
            "FOLD 3\n",
            "--------------------------------\n",
            "epoch number: 0\n",
            "validation loss: 0.00810579710467366\n",
            "Model found at epoch: 0\n",
            "epoch number: 1\n",
            "validation loss: 0.006382747375778368\n",
            "Model found at epoch: 1\n",
            "epoch number: 2\n",
            "validation loss: 0.005470717904539706\n",
            "Model found at epoch: 2\n",
            "epoch number: 3\n",
            "validation loss: 0.005858897637605044\n",
            "Model found at epoch: 3\n",
            "epoch number: 4\n",
            "validation loss: 0.005231972462825925\n",
            "Model found at epoch: 4\n",
            "epoch number: 5\n",
            "validation loss: 0.005447400427440439\n",
            "Model found at epoch: 5\n",
            "epoch number: 6\n",
            "validation loss: 0.005513984184741351\n",
            "Model found at epoch: 6\n",
            "epoch number: 7\n",
            "validation loss: 0.005587095915104017\n",
            "epoch number: 8\n",
            "validation loss: 0.00553204815630502\n",
            "Model found at epoch: 8\n",
            "epoch number: 9\n",
            "validation loss: 0.005815698821146246\n",
            "epoch number: 10\n",
            "validation loss: 0.006146978693904827\n",
            "epoch number: 11\n",
            "validation loss: 0.005996396468451378\n",
            "epoch number: 12\n",
            "validation loss: 0.006210717418797645\n",
            "epoch number: 13\n",
            "validation loss: 0.0062867530351674895\n",
            "epoch number: 14\n",
            "validation loss: 0.006405585934225635\n",
            "epoch number: 15\n",
            "validation loss: 0.006226937420296607\n",
            "epoch number: 16\n",
            "validation loss: 0.006725193315012959\n",
            "Model found at epoch: 16\n",
            "epoch number: 17\n",
            "validation loss: 0.007053191800341594\n",
            "epoch number: 18\n",
            "validation loss: 0.006895280304527781\n",
            "epoch number: 19\n",
            "validation loss: 0.007219056849302262\n",
            "epoch number: 20\n",
            "validation loss: 0.007472577113317758\n",
            "epoch number: 21\n",
            "validation loss: 0.007684505269826236\n",
            "epoch number: 22\n",
            "validation loss: 0.008090845413758922\n",
            "epoch number: 23\n",
            "validation loss: 0.0075269266671206874\n",
            "epoch number: 24\n",
            "validation loss: 0.007727659908038207\n",
            "epoch number: 25\n",
            "validation loss: 0.007631492706176195\n",
            "epoch number: 26\n",
            "validation loss: 0.008197361686055405\n",
            "Early stopping\n",
            "\n",
            "Fold 1: 0.9713358210663676 %\n",
            "Fold 2: 0.9315007134775322 %\n",
            "Fold 3: 0.9213207369511315 %\n",
            "Fold 4: 0.9697908163640507 %\n",
            "Average: 0.9484870219647705 %\n",
            "Fold 1: 0.8827179204555893 %\n",
            "Fold 2: 0.8746950647401013 %\n",
            "Fold 3: 0.8995787679571463 %\n",
            "Fold 4: 0.8719285926915674 %\n",
            "Average: 0.882230086461101 %\n"
          ]
        }
      ]
    },
    {
      "cell_type": "markdown",
      "source": [
        "### Performance"
      ],
      "metadata": {
        "id": "awmE8feZQLmM"
      }
    },
    {
      "cell_type": "code",
      "source": [
        "\n",
        "# plot learning curve based on loss\n",
        "c = 0\n",
        "epoch = np.arange(len(master_train_losses[c]))\n",
        "plt.figure()\n",
        "plt.plot(epoch, master_train_losses[c], 'r', epoch, master_val_losses[c], 'b')\n",
        "plt.legend(['Train loss','Validation loss'])\n",
        "plt.xlabel('Epochs'), plt.ylabel('Loss')\n",
        "plt.show()\n",
        "\n"
      ],
      "metadata": {
        "colab": {
          "base_uri": "https://localhost:8080/",
          "height": 279
        },
        "id": "A1TimwRnOiDA",
        "outputId": "ecb3a05a-63b5-4f84-c751-86e25d19b6fa"
      },
      "execution_count": 56,
      "outputs": [
        {
          "output_type": "display_data",
          "data": {
            "image/png": "[encoded data removed]",
            "text/plain": [
              "<Figure size 432x288 with 1 Axes>"
            ]
          },
          "metadata": {
            "needs_background": "light"
          }
        }
      ]
    },
    {
      "cell_type": "code",
      "source": [
        "\n",
        "# plot learning curve based on AUC\n",
        "epoch = np.arange(len(master_train_aucs[c]))\n",
        "plt.figure()\n",
        "plt.plot(epoch, master_train_aucs[c], 'r', epoch, master_val_aucs[c], 'b')\n",
        "plt.legend(['Train AUC','Validation AUC'])\n",
        "plt.xlabel('Epochs'), plt.ylabel('AUC')\n",
        "plt.show()"
      ],
      "metadata": {
        "colab": {
          "base_uri": "https://localhost:8080/",
          "height": 279
        },
        "id": "csd8zUcmPy7u",
        "outputId": "294735ab-d010-4152-ab3a-c5893e9ee354"
      },
      "execution_count": 57,
      "outputs": [
        {
          "output_type": "display_data",
          "data": {
            "image/png": "[encoded data removed]",
            "text/plain": [
              "<Figure size 432x288 with 1 Axes>"
            ]
          },
          "metadata": {
            "needs_background": "light"
          }
        }
      ]
    },
    {
      "cell_type": "code",
      "source": [
        "# plot AUC \n",
        "def plot_roc(targets, predictions, filename):\n",
        "    \"\"\" function for plitting AUC \"\"\"\n",
        "    # ROC\n",
        "    fpr, tpr, threshold = metrics.roc_curve(targets, predictions)\n",
        "    roc_auc = metrics.auc(fpr, tpr)\n",
        "\n",
        "    # plot ROC\n",
        "    plt.figure()\n",
        "    plt.title('Validation ROC-curve')\n",
        "    plt.plot(fpr, tpr, 'b', label = 'AUC = %0.2f' % roc_auc)\n",
        "    plt.legend(loc = 'lower right')\n",
        "    plt.plot([0, 1], [0, 1],'r--')\n",
        "    plt.xlim([0, 1])\n",
        "    plt.ylim([0, 1])\n",
        "    plt.ylabel('True Positive Rate')\n",
        "    plt.xlabel('False Positive Rate')\n",
        "    plt.show()\n",
        "\n",
        "# plot ROC-curve for concatenated results\n",
        "best_train_targets_list_cat = sum(best_train_targets_list, [])\n",
        "best_train_preds_list_cat = sum(best_train_preds_list, [])\n",
        "best_val_targets_list_cat = sum(best_val_targets_list, [])\n",
        "best_val_preds_list_cat = sum(best_val_preds_list, [])\n",
        "best_train_preds_sig_list_cat = sum(best_train_preds_sig_list, [])\n",
        "best_val_preds_sig_list_cat = sum(best_val_preds_sig_list, [])\n",
        "\n",
        "plot_roc(best_train_targets_list_cat, best_train_preds_sig_list_cat, \"train_AUC\")\n",
        "plot_roc(best_val_targets_list_cat, best_val_preds_sig_list_cat, \"val_AUC\")\n"
      ],
      "metadata": {
        "colab": {
          "base_uri": "https://localhost:8080/",
          "height": 573
        },
        "id": "obdQzwqBP0xC",
        "outputId": "3a331d44-8bef-4a6d-ec5e-aee8ed9e21b6"
      },
      "execution_count": 58,
      "outputs": [
        {
          "output_type": "display_data",
          "data": {
            "image/png": "[encoded data removed]",
            "text/plain": [
              "<Figure size 432x288 with 1 Axes>"
            ]
          },
          "metadata": {
            "needs_background": "light"
          }
        },
        {
          "output_type": "display_data",
          "data": {
            "image/png": "[encoded data removed]",
            "text/plain": [
              "<Figure size 432x288 with 1 Axes>"
            ]
          },
          "metadata": {
            "needs_background": "light"
          }
        }
      ]
    },
    {
      "cell_type": "code",
      "source": [
        "## concatenated performance scores \n",
        "\n",
        "# f1 score \n",
        "print(\"F1 score of training\", f1_score(best_train_targets_list_cat, best_train_preds_list_cat))\n",
        "print(\"F1 score of validation\", f1_score(best_val_targets_list_cat, best_val_preds_list_cat))\n",
        "\n",
        "# confusion matrix\n",
        "print(\"Confusion matrix for training\", confusion_matrix(best_train_targets_list_cat, best_train_preds_list_cat))\n",
        "print(\"Confusion matrix for validation\", confusion_matrix(best_val_targets_list_cat, best_val_preds_list_cat))\n",
        "\n",
        "# MCC \n",
        "print(\"MCC for training\", matthews_corrcoef(best_train_targets_list_cat, best_train_preds_list_cat))\n",
        "print(\"MCC for val\", matthews_corrcoef(best_val_targets_list_cat, best_val_preds_list_cat))"
      ],
      "metadata": {
        "colab": {
          "base_uri": "https://localhost:8080/"
        },
        "id": "H5y0QqL9QCkZ",
        "outputId": "2c6b8684-1f06-45da-fd27-6d6ea240f8ba"
      },
      "execution_count": 59,
      "outputs": [
        {
          "output_type": "stream",
          "name": "stdout",
          "text": [
            "F1 score of training 0.8187919463087249\n",
            "F1 score of validation 0.7296908698777858\n",
            "Confusion matrix for training [[12454   389]\n",
            " [ 1042  3233]]\n",
            "Confusion matrix for validation [[3939  342]\n",
            " [ 410 1015]]\n",
            "MCC for training 0.7693824614161995\n",
            "MCC for val 0.6429576268706473\n"
          ]
        }
      ]
    },
    {
      "cell_type": "code",
      "source": [
        ""
      ],
      "metadata": {
        "id": "WdtXTXKBSGf1"
      },
      "execution_count": null,
      "outputs": []
    }
  ]
}